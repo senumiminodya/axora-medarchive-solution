{
 "cells": [
  {
   "cell_type": "markdown",
   "id": "428fb142",
   "metadata": {},
   "source": [
    "# Notebook 4: Deployment on Vertex AI  \n",
    "*Course:* ITS 2130 – Machine Learning  \n",
    "*Project:* Clinical Document Classification  \n",
    "\n",
    "In this notebook, we:  \n",
    "1. Upload artifacts (model.joblib, requirements.txt) to Google Cloud Storage (GCS).  \n",
    "2. Register the model in *Vertex AI Model Registry*.  \n",
    "3. Deploy the model to a live *Endpoint*.  \n",
    "4. Send test predictions to confirm deployment."
   ]
  },
  {
   "cell_type": "code",
   "execution_count": 1,
   "id": "aac33fac",
   "metadata": {},
   "outputs": [],
   "source": [
    "from google.cloud import aiplatform"
   ]
  },
  {
   "cell_type": "code",
   "execution_count": 2,
   "id": "918b6ade",
   "metadata": {},
   "outputs": [
    {
     "name": "stderr",
     "output_type": "stream",
     "text": [
      "c:\\Users\\DELL\\AppData\\Local\\Programs\\Python\\Python313\\Lib\\site-packages\\google\\auth\\_default.py:108: UserWarning: Your application has authenticated using end user credentials from Google Cloud SDK without a quota project. You might receive a \"quota exceeded\" or \"API not enabled\" error. See the following page for troubleshooting: https://cloud.google.com/docs/authentication/adc-troubleshooting/user-creds. \n",
      "  warnings.warn(_CLOUD_SDK_CREDENTIALS_WARNING)\n"
     ]
    }
   ],
   "source": [
    "# --- 1. SET YOUR VARIABLES ---\n",
    "# Replace these with your actual project details from the Google Cloud Console.\n",
    "PROJECT_ID = \"ml-coursework-axora\"\n",
    "LOCATION = \"us-central1\"\n",
    "ENDPOINT_ID = \"8335664831495405568\" \n",
    "\n",
    "# --- 2. INITIALIZE THE CLIENT ---\n",
    "# This sets up the connection to your project.\n",
    "aiplatform.init(project=PROJECT_ID, location=LOCATION)\n",
    "\n",
    "# --- 3. CREATE THE ENDPOINT OBJECT ---\n",
    "# This create a local python object that is a remote control for your live endpoint.\n",
    "endpoint = aiplatform.Endpoint(endpoint_name=ENDPOINT_ID)"
   ]
  },
  {
   "cell_type": "code",
   "execution_count": 3,
   "id": "1243c63b",
   "metadata": {},
   "outputs": [
    {
     "name": "stdout",
     "output_type": "stream",
     "text": [
      "----------------------------- Test ---------------------------------\n",
      "\n",
      "Prediction(predictions=['Cardiovascular / Pulmonary', 'Orthopedic', 'Neurology', 'Cardiovascular / Pulmonary', 'Cardiovascular / Pulmonary', 'Orthopedic', 'Cardiovascular / Pulmonary', 'Hematology - Oncology', 'Cardiovascular / Pulmonary', 'Gastroenterology'], deployed_model_id='4938363017667543040', metadata=None, model_version_id='1', model_resource_name='projects/1011491360789/locations/us-central1/models/3828370845055582208', explanations=None)\n",
      "...RECIEVED A RESPONSE.\n",
      "['Cardiovascular / Pulmonary', 'Orthopedic', 'Neurology', 'Cardiovascular / Pulmonary', 'Cardiovascular / Pulmonary', 'Orthopedic', 'Cardiovascular / Pulmonary', 'Hematology - Oncology', 'Cardiovascular / Pulmonary', 'Gastroenterology']\n"
     ]
    }
   ],
   "source": [
    "print(\"----------------------------- Test ---------------------------------\\n\")\n",
    "\n",
    "# List of new prescription we want to classify\n",
    "test_cases = [\n",
    "    \"The patient reported persistent chest pain radiating to the left arm. ECG showed abnormalities consistent with myocardial infarction.\",\n",
    "    \"X-ray confirmed a displaced fracture of the femur. The patient was scheduled for orthopedic surgery.\",\n",
    "    \"The patient presented with memory loss and difficulty in coordination. MRI revealed signs of early-stage dementia.\",\n",
    "    \"The child experienced severe wheezing and shortness of breath. Diagnosis consistent with asthma exacerbation.\",\n",
    "    \"The patient's blood glucose levels remained high despite insulin therapy. Adjustments to dosage were recommended.\",\n",
    "    \"The MRI scan identified a herniated lumbar disc causing lower back pain.\",\n",
    "    \"The patient showed signs of pneumonia on chest X-ray with productive cough and fever.\",\n",
    "    \"Biopsy confirmed malignant cells indicating breast carcinoma. Oncology consultation was scheduled.\",\n",
    "    \"The patient experienced blurred vision and was diagnosed with diabetic retinopathy.\",\n",
    "    \"The ultrasound showed gallstones causing abdominal pain and nausea.\"\n",
    "]\n",
    "\n",
    "response = endpoint.predict(instances=test_cases)\n",
    "print(response)\n",
    "\n",
    "# --- 6. PRASE AND DISPLAY THE RESPONSE ---\n",
    "print(\"...RECIEVED A RESPONSE.\")\n",
    "\n",
    "# Extract predictions from response\n",
    "prediction_results = response.predictions\n",
    "\n",
    "print(prediction_results)"
   ]
  }
 ],
 "metadata": {
  "kernelspec": {
   "display_name": "Python 3",
   "language": "python",
   "name": "python3"
  },
  "language_info": {
   "codemirror_mode": {
    "name": "ipython",
    "version": 3
   },
   "file_extension": ".py",
   "mimetype": "text/x-python",
   "name": "python",
   "nbconvert_exporter": "python",
   "pygments_lexer": "ipython3",
   "version": "3.13.2"
  }
 },
 "nbformat": 4,
 "nbformat_minor": 5
}
