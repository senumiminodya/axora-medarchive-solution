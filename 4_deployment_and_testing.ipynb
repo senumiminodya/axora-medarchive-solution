{
 "cells": [
  {
   "cell_type": "markdown",
   "id": "428fb142",
   "metadata": {},
   "source": [
    "# Axora: Clinical Document Classification  \n",
    "## Notebook 4 : Model Deployment & Testing on Vertex AI  \n",
    "\n",
    "---\n",
    "\n",
    "In this notebook, we:  \n",
    "1. Initialize the *Vertex AI client* with our project details.  \n",
    "2. Connect to the deployed *Vertex AI Endpoint*.  \n",
    "3. Send a list of new clinical transcriptions (test cases) to the model.  \n",
    "4. Receive predictions from the live endpoint.  \n",
    "5. Parse and display the model outputs to confirm successful deployment."
   ]
  },
  {
   "cell_type": "markdown",
   "id": "79590f2d",
   "metadata": {},
   "source": [
    "## 📚 Step 1: Import Dependencies  \n",
    "\n",
    "We import the **Google Cloud Vertex AI SDK (google.cloud.aiplatform)** to connect with and manage our deployed model endpoint."
   ]
  },
  {
   "cell_type": "code",
   "execution_count": 1,
   "id": "aac33fac",
   "metadata": {},
   "outputs": [],
   "source": [
    "from google.cloud import aiplatform"
   ]
  },
  {
   "cell_type": "markdown",
   "id": "5de34a02",
   "metadata": {},
   "source": [
    "## ⚙ Step 2: Set Project Variables  \n",
    "\n",
    "We specify the project details from *Google Cloud Console*:  \n",
    "- 🏢 PROJECT_ID → our GCP project ID  \n",
    "- 🌍 LOCATION → region where the model is deployed  \n",
    "- 🎯 ENDPOINT_ID → ID of the deployed Vertex AI endpoint"
   ]
  },
  {
   "cell_type": "code",
   "execution_count": 2,
   "id": "918b6ade",
   "metadata": {},
   "outputs": [],
   "source": [
    "PROJECT_ID = \"ml-coursework-axora\"\n",
    "LOCATION = \"us-central1\"\n",
    "ENDPOINT_ID = \"8335664831495405568\""
   ]
  },
  {
   "cell_type": "markdown",
   "id": "ed856468",
   "metadata": {},
   "source": [
    "## 🔌 Step 3: Initialize Vertex AI Client  \n",
    "\n",
    "We initialize the Vertex AI client to connect to the correct project and region."
   ]
  },
  {
   "cell_type": "code",
   "execution_count": 3,
   "id": "c18422f3",
   "metadata": {},
   "outputs": [],
   "source": [
    "aiplatform.init(project=PROJECT_ID, location=LOCATION)"
   ]
  },
  {
   "cell_type": "markdown",
   "id": "a25cf52f",
   "metadata": {},
   "source": [
    "## 🛰 Step 4: Connect to Endpoint  \n",
    "\n",
    "We create a local Python object that acts as a *remote control* for the live endpoint."
   ]
  },
  {
   "cell_type": "code",
   "execution_count": 4,
   "id": "20bbc692",
   "metadata": {},
   "outputs": [
    {
     "name": "stderr",
     "output_type": "stream",
     "text": [
      "c:\\Users\\DELL\\AppData\\Local\\Programs\\Python\\Python313\\Lib\\site-packages\\google\\auth\\_default.py:108: UserWarning: Your application has authenticated using end user credentials from Google Cloud SDK without a quota project. You might receive a \"quota exceeded\" or \"API not enabled\" error. See the following page for troubleshooting: https://cloud.google.com/docs/authentication/adc-troubleshooting/user-creds. \n",
      "  warnings.warn(_CLOUD_SDK_CREDENTIALS_WARNING)\n"
     ]
    }
   ],
   "source": [
    "endpoint = aiplatform.Endpoint(endpoint_name=ENDPOINT_ID)"
   ]
  },
  {
   "cell_type": "markdown",
   "id": "695eb361",
   "metadata": {},
   "source": [
    "## 📝 Step 5: Define Test Cases  \n",
    "\n",
    "We create a list of *new clinical transcriptions* that the model has never seen before.  \n",
    "These will be sent to the deployed model for prediction."
   ]
  },
  {
   "cell_type": "code",
   "execution_count": 5,
   "id": "1243c63b",
   "metadata": {},
   "outputs": [],
   "source": [
    "# List of new prescriptions we want to classify\n",
    "test_cases = [\n",
    "    \"The patient reported persistent chest pain radiating to the left arm. ECG showed abnormalities consistent with myocardial infarction.\",\n",
    "    \"X-ray confirmed a displaced fracture of the femur. The patient was scheduled for orthopedic surgery.\",\n",
    "    \"The patient presented with memory loss and difficulty in coordination. MRI revealed signs of early-stage dementia.\",\n",
    "    \"The child experienced severe wheezing and shortness of breath. Diagnosis consistent with asthma exacerbation.\",\n",
    "    \"The patient's blood glucose levels remained high despite insulin therapy. Adjustments to dosage were recommended.\",\n",
    "    \"The MRI scan identified a herniated lumbar disc causing lower back pain.\",\n",
    "    \"The patient showed signs of pneumonia on chest X-ray with productive cough and fever.\",\n",
    "    \"Biopsy confirmed malignant cells indicating breast carcinoma. Oncology consultation was scheduled.\",\n",
    "    \"The patient experienced blurred vision and was diagnosed with diabetic retinopathy.\",\n",
    "    \"The ultrasound showed gallstones causing abdominal pain and nausea.\"\n",
    "]"
   ]
  },
  {
   "cell_type": "markdown",
   "id": "214e3137",
   "metadata": {},
   "source": [
    "## 📤 Step 6: Send Predictions  \n",
    "\n",
    "We send the test cases to the deployed endpoint and request predictions."
   ]
  },
  {
   "cell_type": "code",
   "execution_count": 6,
   "id": "eea5bbb0",
   "metadata": {},
   "outputs": [
    {
     "name": "stdout",
     "output_type": "stream",
     "text": [
      "Prediction(predictions=['Cardiovascular / Pulmonary', 'Orthopedic', 'Neurology', 'Cardiovascular / Pulmonary', 'Cardiovascular / Pulmonary', 'Orthopedic', 'Cardiovascular / Pulmonary', 'Hematology - Oncology', 'Cardiovascular / Pulmonary', 'Gastroenterology'], deployed_model_id='4938363017667543040', metadata=None, model_version_id='1', model_resource_name='projects/1011491360789/locations/us-central1/models/3828370845055582208', explanations=None)\n"
     ]
    }
   ],
   "source": [
    "response = endpoint.predict(instances=test_cases)\n",
    "print(response)"
   ]
  },
  {
   "cell_type": "markdown",
   "id": "a64e5a3c",
   "metadata": {},
   "source": [
    "## 🔎 Step 7: Parse and Display Results  \n",
    "\n",
    "We confirm that a response was received and extract the model’s predictions for each test case."
   ]
  },
  {
   "cell_type": "code",
   "execution_count": 7,
   "id": "f47e77aa",
   "metadata": {},
   "outputs": [
    {
     "name": "stdout",
     "output_type": "stream",
     "text": [
      "...RECEIVED A RESPONSE.\n",
      "['Cardiovascular / Pulmonary', 'Orthopedic', 'Neurology', 'Cardiovascular / Pulmonary', 'Cardiovascular / Pulmonary', 'Orthopedic', 'Cardiovascular / Pulmonary', 'Hematology - Oncology', 'Cardiovascular / Pulmonary', 'Gastroenterology']\n"
     ]
    }
   ],
   "source": [
    "print(\"...RECEIVED A RESPONSE.\")\n",
    "\n",
    "# Extract predictions from response\n",
    "prediction_results = response.predictions\n",
    "print(prediction_results)"
   ]
  }
 ],
 "metadata": {
  "kernelspec": {
   "display_name": "Python 3",
   "language": "python",
   "name": "python3"
  },
  "language_info": {
   "codemirror_mode": {
    "name": "ipython",
    "version": 3
   },
   "file_extension": ".py",
   "mimetype": "text/x-python",
   "name": "python",
   "nbconvert_exporter": "python",
   "pygments_lexer": "ipython3",
   "version": "3.13.2"
  }
 },
 "nbformat": 4,
 "nbformat_minor": 5
}
