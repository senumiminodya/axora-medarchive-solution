import joblib
import os

os.makedirs("artifacts", exist_ok=True)

joblib.dump(tfidf_vectorizer, "artifacts/tfidf_vectorizer.joblib")

joblib.dump(final_model, "artifacts/softmax_regression_model.joblib")

print("✅ Model and Vectorizer saved successfully!")

from sklearn.pipeline import Pipeline

final_pipeline = Pipeline([
    ("tfidf", tfidf_vectorizer),
    ("clf", final_model)
])

joblib.dump(final_pipeline, "artifacts/clinical_doc_classifier.joblib")

print("✅ Unified Pipeline saved successfully!")

loaded_pipeline = joblib.load("artifacts/clinical_doc_classifier.joblib")

sample_text = ["Patient reports chest pain and shortness of breath."]

prediction = loaded_pipeline.predict(sample_text)
print("Predicted Specialty:", prediction[0])

from sklearn.metrics import classification_report, confusion_matrix
import seaborn as sns
import matplotlib.pyplot as plt

y_test_pred = loaded_pipeline.predict(X_test)

print("Classification Report (Test Set):")
print(classification_report(y_test, y_test_pred))

cm = confusion_matrix(y_test, y_test_pred, labels=loaded_pipeline.classes_)
plt.figure(figsize=(10, 8))
sns.heatmap(cm, annot=True, fmt="d", cmap="Blues", xticklabels=loaded_pipeline.classes_, yticklabels=loaded_pipeline.classes_)
plt.xlabel("Predicted")
plt.ylabel("Actual")
plt.title("Confusion Matrix - Test Set")
plt.show()
