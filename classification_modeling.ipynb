{
 "cells": [
  {
   "cell_type": "code",
   "execution_count": 3,
   "id": "5ef6b164",
   "metadata": {},
   "outputs": [],
   "source": [
    "# Import libraries\n",
    "import pandas as pd\n",
    "from datasets import load_dataset\n",
    "from sklearn.feature_extraction.text import TfidfVectorizer\n",
    "from sklearn.linear_model import LogisticRegression\n",
    "from sklearn.model_selection import GridSearchCV, cross_val_score\n",
    "from sklearn.metrics import classification_report, confusion_matrix\n",
    "import joblib"
   ]
  },
  {
   "cell_type": "code",
   "execution_count": 4,
   "id": "3f75d615",
   "metadata": {},
   "outputs": [
    {
     "name": "stderr",
     "output_type": "stream",
     "text": [
      "C:\\Users\\Menuki\\AppData\\Local\\Packages\\PythonSoftwareFoundation.Python.3.11_qbz5n2kfra8p0\\LocalCache\\local-packages\\Python311\\site-packages\\huggingface_hub\\file_download.py:143: UserWarning: `huggingface_hub` cache-system uses symlinks by default to efficiently store duplicated files but your machine does not support them in C:\\Users\\Menuki\\.cache\\huggingface\\hub\\datasets--hpe-ai--medical-cases-classification-tutorial. Caching files will still work but in a degraded version that might require more space on your disk. This warning can be disabled by setting the `HF_HUB_DISABLE_SYMLINKS_WARNING` environment variable. For more details, see https://huggingface.co/docs/huggingface_hub/how-to-cache#limitations.\n",
      "To support symlinks on Windows, you either need to activate Developer Mode or to run Python as an administrator. In order to activate developer mode, see this article: https://docs.microsoft.com/en-us/windows/apps/get-started/enable-your-device-for-development\n",
      "  warnings.warn(message)\n",
      "Repo card metadata block was not found. Setting CardData to empty.\n",
      "Generating train split: 100%|██████████| 1724/1724 [00:00<00:00, 3263.81 examples/s]\n",
      "Generating validation split: 100%|██████████| 370/370 [00:00<00:00, 2701.01 examples/s]\n",
      "Generating test split: 100%|██████████| 370/370 [00:00<00:00, 4572.12 examples/s]\n"
     ]
    }
   ],
   "source": [
    "# Load dataset\n",
    "dataset = load_dataset(\"hpe-ai/medical-cases-classification-tutorial\")\n",
    "\n",
    "train_df = pd.DataFrame(dataset[\"train\"])\n",
    "val_df   = pd.DataFrame(dataset[\"validation\"])\n",
    "test_df  = pd.DataFrame(dataset[\"test\"])\n",
    "\n",
    "# Features and labels\n",
    "X_train = train_df[\"transcription\"]\n",
    "y_train = train_df[\"medical_specialty\"]\n",
    "\n",
    "X_val = val_df[\"transcription\"]\n",
    "y_val = val_df[\"medical_specialty\"]\n",
    "\n",
    "X_test = test_df[\"transcription\"]\n",
    "y_test = test_df[\"medical_specialty\"]\n"
   ]
  },
  {
   "cell_type": "code",
   "execution_count": 5,
   "id": "2855766b",
   "metadata": {},
   "outputs": [],
   "source": [
    "vectorizer = TfidfVectorizer(stop_words=\"english\", max_features=5000)\n",
    "\n",
    "X_train_vec = vectorizer.fit_transform(X_train)\n",
    "X_val_vec   = vectorizer.transform(X_val)\n",
    "X_test_vec  = vectorizer.transform(X_test)"
   ]
  },
  {
   "cell_type": "code",
   "execution_count": 8,
   "id": "2abb9f0d",
   "metadata": {},
   "outputs": [],
   "source": [
    "log_reg = LogisticRegression(multi_class=\"multinomial\", solver=\"lbfgs\", max_iter=1000)"
   ]
  }
 ],
 "metadata": {
  "kernelspec": {
   "display_name": "Python 3",
   "language": "python",
   "name": "python3"
  },
  "language_info": {
   "codemirror_mode": {
    "name": "ipython",
    "version": 3
   },
   "file_extension": ".py",
   "mimetype": "text/x-python",
   "name": "python",
   "nbconvert_exporter": "python",
   "pygments_lexer": "ipython3",
   "version": "3.11.9"
  }
 },
 "nbformat": 4,
 "nbformat_minor": 5
}
