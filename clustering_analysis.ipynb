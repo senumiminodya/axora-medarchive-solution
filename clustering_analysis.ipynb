{
 "cells": [
  {
   "cell_type": "code",
   "execution_count": 1,
   "id": "d74523d8",
   "metadata": {},
   "outputs": [
    {
     "name": "stdout",
     "output_type": "stream",
     "text": [
      "✅ Imports ready.\n"
     ]
    }
   ],
   "source": [
    "# ===== Notebook 3: Clustering Analysis =====\n",
    "# Axora: Clinical Document Classification\n",
    "\n",
    "import numpy as np\n",
    "import pandas as pd\n",
    "import matplotlib.pyplot as plt\n",
    "import seaborn as sns\n",
    "\n",
    "from datasets import load_dataset\n",
    "from scipy.sparse import csr_matrix\n",
    "from sklearn.feature_extraction.text import TfidfVectorizer\n",
    "from sklearn.cluster import KMeans\n",
    "from sklearn.metrics import (\n",
    "    homogeneity_score, completeness_score, v_measure_score,\n",
    "    adjusted_rand_score, adjusted_mutual_info_score, silhouette_score\n",
    ")\n",
    "\n",
    "from collections import Counter\n",
    "import textwrap\n",
    "import warnings, os, sys, re, math, random\n",
    "\n",
    "# Plot aesthetics\n",
    "sns.set(style=\"whitegrid\", font_scale=1.05)\n",
    "plt.rcParams[\"figure.figsize\"] = (10, 6)\n",
    "\n",
    "RANDOM_STATE = 42\n",
    "np.random.seed(RANDOM_STATE)\n",
    "random.seed(RANDOM_STATE)\n",
    "\n",
    "warnings.filterwarnings(\"ignore\")\n",
    "print(\"✅ Imports ready.\")"
   ]
  }
 ],
 "metadata": {
  "kernelspec": {
   "display_name": ".venv (3.12.5)",
   "language": "python",
   "name": "python3"
  },
  "language_info": {
   "codemirror_mode": {
    "name": "ipython",
    "version": 3
   },
   "file_extension": ".py",
   "mimetype": "text/x-python",
   "name": "python",
   "nbconvert_exporter": "python",
   "pygments_lexer": "ipython3",
   "version": "3.12.5"
  }
 },
 "nbformat": 4,
 "nbformat_minor": 5
}
